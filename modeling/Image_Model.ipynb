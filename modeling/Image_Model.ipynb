{
  "nbformat": 4,
  "nbformat_minor": 0,
  "metadata": {
    "colab": {
      "provenance": [],
      "collapsed_sections": [
        "In14ii61Vb1Z"
      ],
      "gpuType": "T4"
    },
    "kernelspec": {
      "name": "python3",
      "display_name": "Python 3"
    },
    "language_info": {
      "name": "python"
    },
    "accelerator": "GPU"
  },
  "cells": [
    {
      "cell_type": "code",
      "source": [
        "pip install tensorflowjs\n"
      ],
      "metadata": {
        "colab": {
          "base_uri": "https://localhost:8080/"
        },
        "id": "Ma8dFGJ0JLzF",
        "outputId": "0a29156b-55d0-4837-da6d-5a480eb405d5"
      },
      "execution_count": 1,
      "outputs": [
        {
          "output_type": "stream",
          "name": "stdout",
          "text": [
            "Installing collected packages: wurlitzer, tensorflow-decision-forests, tensorflowjs\n",
            "Successfully installed tensorflow-decision-forests-1.8.1 tensorflowjs-4.15.0 wurlitzer-3.0.3\n"
          ]
        }
      ]
    },
    {
      "cell_type": "code",
      "execution_count": 3,
      "metadata": {
        "id": "5GvM09kmoYaM"
      },
      "outputs": [],
      "source": [
        "import pandas as pd\n",
        "import requests\n",
        "import os\n",
        "from IPython.display import display, HTML\n",
        "\n",
        "os.chdir(\"/content/drive/MyDrive/Capstone - Bangkit\")"
      ]
    },
    {
      "cell_type": "code",
      "source": [
        "!ls"
      ],
      "metadata": {
        "colab": {
          "base_uri": "https://localhost:8080/"
        },
        "id": "lMV_D2MLKtv5",
        "outputId": "8bf06f39-15ca-45ad-d4e1-7ac56097090e"
      },
      "execution_count": 4,
      "outputs": [
        {
          "output_type": "stream",
          "name": "stdout",
          "text": [
            " ConvertToChunk.ipynb   dataset\t\t     model.h5\t 'recomendation system'   tes.json\n",
            " data\t\t       'Image Model.ipynb'   my_data.db  'step - 1.ipynb'\t  tfjs_model\n"
          ]
        }
      ]
    },
    {
      "cell_type": "code",
      "source": [
        "!ls models"
      ],
      "metadata": {
        "colab": {
          "base_uri": "https://localhost:8080/"
        },
        "id": "vaaVM5DHLnjk",
        "outputId": "ccb948e8-5bb4-4723-e234-64ab3869b2c7"
      },
      "execution_count": 12,
      "outputs": [
        {
          "output_type": "stream",
          "name": "stdout",
          "text": [
            "model.h5\n"
          ]
        }
      ]
    },
    {
      "cell_type": "code",
      "source": [
        "from tensorflow.keras.models import load_model\n",
        "\n",
        "model = load_model('models/model.h5')\n",
        "model.summary()"
      ],
      "metadata": {
        "id": "_1XSxlhuLv7M"
      },
      "execution_count": null,
      "outputs": []
    },
    {
      "cell_type": "code",
      "source": [
        "!tensorflowjs_converter --input_format=tf_saved_model --output_node_names='dense_1/Softmax' --saved_model_tags=serve models/model.h5 tfjs_model/"
      ],
      "metadata": {
        "id": "uYjPlEbIVas5"
      },
      "execution_count": null,
      "outputs": []
    },
    {
      "cell_type": "markdown",
      "source": [
        "# Preparation"
      ],
      "metadata": {
        "id": "In14ii61Vb1Z"
      }
    },
    {
      "cell_type": "code",
      "source": [
        "df = pd.read_json(\"./data/dataset.json\")"
      ],
      "metadata": {
        "id": "p2Oo9Wbkskhu"
      },
      "execution_count": null,
      "outputs": []
    },
    {
      "cell_type": "code",
      "source": [
        "# Fungsi untuk menampilkan gambar dalam tabel\n",
        "def display_image(img_url):\n",
        "    return f'<img src=\"{img_url}\" style=\"max-height:300px; max-width:300px;\">'\n",
        "\n",
        "def display_table(df_, range = False, void = True):\n",
        "  if range:\n",
        "    df_ = df_.loc[range][['title', 'image_real']]\n",
        "  else:\n",
        "    df_ = df_[['title', 'image_real']]\n",
        "  # Menambahkan kolom gambar ke dalam tabel\n",
        "  df_['image_display'] = df_['image_real'].apply(display_image)\n",
        "\n",
        "  # Menampilkan tabel\n",
        "  display(HTML(df_[['title', 'image_display']].to_html(escape=False)))\n",
        "  if void == False:\n",
        "    return df_\n",
        "\n",
        "def download_images(dataframe, target_directory):\n",
        "    \"\"\"\n",
        "    Fungsi untuk mengunduh semua gambar dari kolom 'image_real' dalam DataFrame.\n",
        "\n",
        "    Parameters:\n",
        "    - dataframe: DataFrame yang berisi kolom 'image_real'.\n",
        "    - target_directory: Direktori tempat gambar akan disimpan.\n",
        "    \"\"\"\n",
        "    # Pastikan target_directory ada, jika tidak, buat direktori tersebut\n",
        "    os.makedirs(target_directory, exist_ok=True)\n",
        "\n",
        "    # Iterasi melalui setiap baris dalam DataFrame\n",
        "    for index, row in dataframe.iterrows():\n",
        "        image_url = row['image_real']\n",
        "        image_name = f\"image_{index}.jpg\"  # Nama file lokal\n",
        "\n",
        "        # Mengunduh gambar\n",
        "        response = requests.get(image_url)\n",
        "        if response.status_code == 200:\n",
        "            # Menyimpan gambar ke dalam direktori target\n",
        "            image_path = os.path.join(target_directory, image_name)\n",
        "            with open(image_path, 'wb') as f:\n",
        "                f.write(response.content)\n",
        "            print(f\"Gambar {image_name} berhasil diunduh.\")\n",
        "        else:\n",
        "            print(f\"Gambar {image_name} gagal diunduh. Status code: {response.status_code}\")"
      ],
      "metadata": {
        "id": "dfyHtZmzBD8C"
      },
      "execution_count": null,
      "outputs": []
    },
    {
      "cell_type": "code",
      "source": [
        "df.columns"
      ],
      "metadata": {
        "colab": {
          "base_uri": "https://localhost:8080/"
        },
        "id": "4ja7H74Ysn4j",
        "outputId": "bb2698ba-67ea-4b5f-a7f2-5cf37292108a"
      },
      "execution_count": null,
      "outputs": [
        {
          "output_type": "execute_result",
          "data": {
            "text/plain": [
              "Index(['link', 'image', 'title', 'id_product', 'image_real', 'product_name',\n",
              "       'image_display'],\n",
              "      dtype='object')"
            ]
          },
          "metadata": {},
          "execution_count": 9
        }
      ]
    },
    {
      "cell_type": "code",
      "source": [
        "filename = df.product_name.unique()"
      ],
      "metadata": {
        "id": "7b1whkHeCW4p"
      },
      "execution_count": null,
      "outputs": []
    },
    {
      "cell_type": "code",
      "source": [
        "filename"
      ],
      "metadata": {
        "colab": {
          "base_uri": "https://localhost:8080/"
        },
        "id": "cxzTgpSXantr",
        "outputId": "f6c0e677-53db-4541-d44e-670042d375b7"
      },
      "execution_count": null,
      "outputs": [
        {
          "output_type": "execute_result",
          "data": {
            "text/plain": [
              "array(['Nikon D850', 'Samsung Galaxy S21', 'Google Pixel 5',\n",
              "       'MacBook Air', 'OXIMUS ZDP1118'], dtype=object)"
            ]
          },
          "metadata": {},
          "execution_count": 20
        }
      ]
    },
    {
      "cell_type": "code",
      "source": [
        "df_1 = df[df['product_name'] == filename[0]][:100]\n",
        "df_2 = df[df['product_name'] == filename[1]][:100]\n",
        "df_3 = df[df['product_name'] == filename[2]][:100]\n",
        "df_4 = df[df['product_name'] == filename[3]][:100]\n",
        "df_5 = df[df['product_name'] == filename[4]][:100]"
      ],
      "metadata": {
        "id": "T3WFaRn8DI4C"
      },
      "execution_count": null,
      "outputs": []
    },
    {
      "cell_type": "code",
      "source": [
        "df.product_name.value_counts()"
      ],
      "metadata": {
        "colab": {
          "base_uri": "https://localhost:8080/"
        },
        "id": "pU95lsNuDSPn",
        "outputId": "d177971c-98a4-4a80-dae8-d6cfca1f8e84"
      },
      "execution_count": null,
      "outputs": [
        {
          "output_type": "execute_result",
          "data": {
            "text/plain": [
              "MacBook Air           338\n",
              "OXIMUS ZDP1118        262\n",
              "Samsung Galaxy S21    235\n",
              "Google Pixel 5        111\n",
              "Nikon D850            101\n",
              "Name: product_name, dtype: int64"
            ]
          },
          "metadata": {},
          "execution_count": 22
        }
      ]
    },
    {
      "cell_type": "code",
      "source": [
        "df_2.shape"
      ],
      "metadata": {
        "colab": {
          "base_uri": "https://localhost:8080/"
        },
        "id": "5-NYul2dRvYi",
        "outputId": "73d19b34-8f2b-4d60-e53a-4afa9599599b"
      },
      "execution_count": null,
      "outputs": [
        {
          "output_type": "execute_result",
          "data": {
            "text/plain": [
              "(100, 6)"
            ]
          },
          "metadata": {},
          "execution_count": 12
        }
      ]
    },
    {
      "cell_type": "code",
      "source": [
        "for filename_ in filename:\n",
        "  download_images(df[df['product_name'] == filename_][:100], filename_)"
      ],
      "metadata": {
        "id": "HXb7ICv7Gxkx"
      },
      "execution_count": null,
      "outputs": []
    },
    {
      "cell_type": "code",
      "source": [
        "df_12 = display_table(df_4, False, False)"
      ],
      "metadata": {
        "id": "fevuJ4J2ETkF"
      },
      "execution_count": null,
      "outputs": []
    },
    {
      "cell_type": "markdown",
      "source": [
        "# Modeling"
      ],
      "metadata": {
        "id": "4sEloLxcT6j0"
      }
    },
    {
      "cell_type": "code",
      "source": [
        "import os\n",
        "import tensorflow as tf\n",
        "from tensorflow.keras import layers, models\n",
        "from tensorflow.keras.preprocessing.image import ImageDataGenerator\n"
      ],
      "metadata": {
        "id": "qduGKG0oT47H"
      },
      "execution_count": 4,
      "outputs": []
    },
    {
      "cell_type": "code",
      "source": [
        "def create_cnn_model(input_shape, num_classes):\n",
        "    model = models.Sequential()\n",
        "\n",
        "    # Layer konvolusi dan pooling pertama\n",
        "    model.add(layers.Conv2D(32, (3, 3), activation='relu', input_shape=input_shape))\n",
        "    model.add(layers.MaxPooling2D((2, 2)))\n",
        "\n",
        "    # Layer konvolusi dan pooling kedua\n",
        "    model.add(layers.Conv2D(64, (3, 3), activation='relu'))\n",
        "    model.add(layers.MaxPooling2D((2, 2)))\n",
        "\n",
        "    # Layer konvolusi dan pooling ketiga\n",
        "    model.add(layers.Conv2D(128, (3, 3), activation='relu'))\n",
        "    model.add(layers.MaxPooling2D((2, 2)))\n",
        "\n",
        "    # Flatten layer untuk mengubah matriks menjadi vektor\n",
        "    model.add(layers.Flatten())\n",
        "\n",
        "    # Dense layer dengan 512 neuron\n",
        "    model.add(layers.Dense(512, activation='relu'))\n",
        "\n",
        "    # Output layer dengan num_classes neuron (sesuai jumlah kategori)\n",
        "    model.add(layers.Dense(num_classes, activation='softmax'))\n",
        "\n",
        "    # Compile model\n",
        "    model.compile(optimizer='adam', loss='categorical_crossentropy', metrics=['accuracy'])\n",
        "\n",
        "    return model\n",
        "\n",
        "# Dimensi input gambar (disesuaikan dengan gambar Anda)\n",
        "input_shape = (150, 150, 3)\n",
        "\n",
        "# Jumlah kategori (sesuaikan dengan jumlah kategori Anda)\n",
        "num_classes = 5\n",
        "\n",
        "# Membuat model\n",
        "model = create_cnn_model(input_shape, num_classes)\n",
        "\n",
        "# Membuat objek ImageDataGenerator untuk augmentasi gambar\n",
        "datagen = ImageDataGenerator(\n",
        "    rescale=1./255,\n",
        "    shear_range=0.2,\n",
        "    zoom_range=0.2,\n",
        "    horizontal_flip=True,\n",
        "    validation_split=0.2  # Split data menjadi data pelatihan dan validasi\n",
        ")\n",
        "\n",
        "# Mendefinisikan direktori dataset\n",
        "dataset_dir = 'dataset'\n",
        "\n",
        "# Membuat generator data pelatihan\n",
        "train_generator = datagen.flow_from_directory(\n",
        "    dataset_dir,\n",
        "    target_size=(150, 150),\n",
        "    batch_size=32,\n",
        "    class_mode='categorical',\n",
        "    subset='training'  # Data pelatihan\n",
        ")\n",
        "\n",
        "# Membuat generator data validasi\n",
        "validation_generator = datagen.flow_from_directory(\n",
        "    dataset_dir,\n",
        "    target_size=(150, 150),\n",
        "    batch_size=32,\n",
        "    class_mode='categorical',\n",
        "    subset='validation'  # Data validasi\n",
        ")"
      ],
      "metadata": {
        "colab": {
          "base_uri": "https://localhost:8080/"
        },
        "id": "ZUBogodZT4YU",
        "outputId": "d42ec038-f9e2-4bcf-d931-f457f6bbf027"
      },
      "execution_count": 5,
      "outputs": [
        {
          "output_type": "stream",
          "name": "stdout",
          "text": [
            "Found 400 images belonging to 5 classes.\n",
            "Found 99 images belonging to 5 classes.\n"
          ]
        }
      ]
    },
    {
      "cell_type": "code",
      "source": [
        "# Menentukan jumlah epoch\n",
        "epochs = 10\n",
        "\n",
        "# Pelatihan model\n",
        "with tf.device(\"/GPU:0\"):\n",
        "    history = model.fit(\n",
        "        train_generator,\n",
        "        steps_per_epoch=train_generator.samples // train_generator.batch_size,\n",
        "        validation_data=validation_generator,\n",
        "        validation_steps=validation_generator.samples // validation_generator.batch_size,\n",
        "        epochs=epochs\n",
        "    )\n"
      ],
      "metadata": {
        "colab": {
          "base_uri": "https://localhost:8080/"
        },
        "id": "Q10CTvwuUSYk",
        "outputId": "9721d997-60a3-4214-e911-f2289559d35f"
      },
      "execution_count": 6,
      "outputs": [
        {
          "output_type": "stream",
          "name": "stdout",
          "text": [
            "Epoch 1/10\n",
            "12/12 [==============================] - 143s 11s/step - loss: 1.9822 - accuracy: 0.2853 - val_loss: 1.4074 - val_accuracy: 0.4062\n",
            "Epoch 2/10\n",
            "12/12 [==============================] - 3s 272ms/step - loss: 1.1211 - accuracy: 0.5951 - val_loss: 1.0101 - val_accuracy: 0.5729\n",
            "Epoch 3/10\n",
            "12/12 [==============================] - 3s 276ms/step - loss: 0.7786 - accuracy: 0.6848 - val_loss: 0.6987 - val_accuracy: 0.7292\n",
            "Epoch 4/10\n",
            "12/12 [==============================] - 4s 360ms/step - loss: 0.6574 - accuracy: 0.7473 - val_loss: 0.6890 - val_accuracy: 0.7604\n",
            "Epoch 5/10\n",
            "12/12 [==============================] - 3s 279ms/step - loss: 0.4885 - accuracy: 0.8342 - val_loss: 0.7226 - val_accuracy: 0.8125\n",
            "Epoch 6/10\n",
            "12/12 [==============================] - 3s 268ms/step - loss: 0.4739 - accuracy: 0.8152 - val_loss: 0.6969 - val_accuracy: 0.7396\n",
            "Epoch 7/10\n",
            "12/12 [==============================] - 5s 433ms/step - loss: 0.4428 - accuracy: 0.8370 - val_loss: 0.6156 - val_accuracy: 0.8229\n",
            "Epoch 8/10\n",
            "12/12 [==============================] - 4s 317ms/step - loss: 0.3793 - accuracy: 0.8560 - val_loss: 0.5153 - val_accuracy: 0.8438\n",
            "Epoch 9/10\n",
            "12/12 [==============================] - 3s 276ms/step - loss: 0.3544 - accuracy: 0.8723 - val_loss: 0.5815 - val_accuracy: 0.8021\n",
            "Epoch 10/10\n",
            "12/12 [==============================] - 4s 386ms/step - loss: 0.2216 - accuracy: 0.9212 - val_loss: 0.5014 - val_accuracy: 0.8021\n"
          ]
        }
      ]
    },
    {
      "cell_type": "code",
      "source": [
        "from tensorflow.keras.preprocessing import image\n",
        "import numpy as np\n",
        "\n",
        "img_path = 'mac.jpg'\n",
        "img = image.load_img(img_path, target_size=(150, 150))\n",
        "img_array = image.img_to_array(img)\n",
        "img_array = np.expand_dims(img_array, axis=0)  # Menambahkan dimensi batch\n",
        "img_array /= 255.0  # Normalisasi nilai piksel ke rentang [0, 1]\n",
        "\n",
        "prediction = model.predict(img_array)\n",
        "predicted_class = np.argmax(prediction)\n",
        "print(f'Predicted class: {predicted_class}')\n",
        "predicted_label = [label for label, index in class_labels.items() if index == predicted_class][0]\n",
        "print(f'Predicted label: {predicted_label}')\n"
      ],
      "metadata": {
        "colab": {
          "base_uri": "https://localhost:8080/"
        },
        "id": "pjK_JpNcUIJv",
        "outputId": "07330ebd-9439-4a82-cec4-e916d84d319c"
      },
      "execution_count": null,
      "outputs": [
        {
          "output_type": "stream",
          "name": "stdout",
          "text": [
            "1/1 [==============================] - 0s 45ms/step\n",
            "Predicted class: 0\n",
            "Predicted label: Google Pixel 5\n"
          ]
        }
      ]
    },
    {
      "cell_type": "code",
      "source": [
        "predicted_label = [label for label, index in class_labels.items() if index == predicted_class][0]\n",
        "print(f'Predicted label: {predicted_label}')\n"
      ],
      "metadata": {
        "colab": {
          "base_uri": "https://localhost:8080/"
        },
        "id": "94-ONVaTY1du",
        "outputId": "d57c2b53-4e79-4552-86ef-47292fb4e487"
      },
      "execution_count": null,
      "outputs": [
        {
          "output_type": "stream",
          "name": "stdout",
          "text": [
            "Predicted label: Nikon D850\n"
          ]
        }
      ]
    },
    {
      "cell_type": "code",
      "source": [
        "train_generator.class_indices"
      ],
      "metadata": {
        "colab": {
          "base_uri": "https://localhost:8080/"
        },
        "id": "vLpG8-BJZVsk",
        "outputId": "de651cab-a9a1-4241-d1e7-b06c10ed457c"
      },
      "execution_count": null,
      "outputs": [
        {
          "output_type": "execute_result",
          "data": {
            "text/plain": [
              "{'Google Pixel 5': 0,\n",
              " 'MacBook Air': 1,\n",
              " 'Nikon D850': 2,\n",
              " 'OXIMUS ZDP1118': 3,\n",
              " 'Samsung Galaxy S21': 4}"
            ]
          },
          "metadata": {},
          "execution_count": 11
        }
      ]
    },
    {
      "cell_type": "code",
      "source": [
        "model.save('model.h5')"
      ],
      "metadata": {
        "colab": {
          "base_uri": "https://localhost:8080/"
        },
        "id": "oqfvR0bYaRbk",
        "outputId": "c53c040b-2306-4437-ba59-28e4094351e4"
      },
      "execution_count": null,
      "outputs": [
        {
          "output_type": "stream",
          "name": "stderr",
          "text": [
            "/usr/local/lib/python3.10/dist-packages/keras/src/engine/training.py:3079: UserWarning: You are saving your model as an HDF5 file via `model.save()`. This file format is considered legacy. We recommend using instead the native Keras format, e.g. `model.save('my_model.keras')`.\n",
            "  saving_api.save_model(\n"
          ]
        }
      ]
    }
  ]
}